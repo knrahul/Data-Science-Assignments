{
 "cells": [
  {
   "cell_type": "markdown",
   "id": "236ef1c7-f87c-44ab-ae89-9c581e9ffb8b",
   "metadata": {},
   "source": [
    "Q1, Create a vehicle class with an init method having instance variables as name_of_vehicle, max_speed\n",
    "and average_of_vehicle.  "
   ]
  },
  {
   "cell_type": "code",
   "execution_count": 1,
   "id": "deb851a4-b802-44cb-97ba-90cc5ee796b8",
   "metadata": {},
   "outputs": [],
   "source": [
    "class vehicle:\n",
    "    def __init__(self,name_of_vehicle,max_speed,average_of_vehicle):\n",
    "        self.name_of_vehicle=name_of_vehicle\n",
    "        self.max_speed=max_speed\n",
    "        self.average_of_vehicle=average_of_vehicle"
   ]
  },
  {
   "cell_type": "markdown",
   "id": "391a4422-6342-4d83-a63b-a7679c6fa6dc",
   "metadata": {},
   "source": [
    "Q2. Create a child class car from the vehicle class created in Que 1, which will inherit the vehicle class.\n",
    "Create a method named seating_capacity which takes capacity as an argument and returns the name of   \n",
    "the vehicle and its seating capacity.   "
   ]
  },
  {
   "cell_type": "code",
   "execution_count": 3,
   "id": "db824be7-fbd5-4f61-bb6e-c9941d261299",
   "metadata": {},
   "outputs": [],
   "source": [
    "class car(vehicle):\n",
    "    def seating_capacity(self,capacity):\n",
    "        return self.name_of_vehicle,capacity"
   ]
  },
  {
   "cell_type": "markdown",
   "id": "a635d6b1-c7d4-4907-b8f1-38fcf63e5ea1",
   "metadata": {},
   "source": [
    "Q3. What is multiple inheritance? Write a python code to demonstrate multiple inheritance.  \n",
    "A) A child class which is inherited from multiple parent classes is known as multiple inheritance   "
   ]
  },
  {
   "cell_type": "code",
   "execution_count": 4,
   "id": "c444fe2b-c2e3-4585-9272-2778b7f1ae2d",
   "metadata": {},
   "outputs": [],
   "source": [
    "class parent1:\n",
    "    def method1(self):\n",
    "        print('This is parent class1')\n",
    "class parent2:\n",
    "    def method2(self):\n",
    "        print('This is parent class 2')\n",
    "class child(parent1,parent2):\n",
    "    def method3(self):\n",
    "        print('This is child class')"
   ]
  },
  {
   "cell_type": "code",
   "execution_count": 5,
   "id": "99b51429-6c46-47e2-bf4f-3dfd1e5ef5ce",
   "metadata": {},
   "outputs": [],
   "source": [
    "obj_child=child()"
   ]
  },
  {
   "cell_type": "code",
   "execution_count": 6,
   "id": "c4f49ea2-1a31-467c-b97d-d011b0d735be",
   "metadata": {},
   "outputs": [
    {
     "name": "stdout",
     "output_type": "stream",
     "text": [
      "This is parent class1\n"
     ]
    }
   ],
   "source": [
    "obj_child.method1()"
   ]
  },
  {
   "cell_type": "code",
   "execution_count": 7,
   "id": "f74ebf08-c548-4ed3-ba98-ac6440c9240d",
   "metadata": {},
   "outputs": [
    {
     "name": "stdout",
     "output_type": "stream",
     "text": [
      "This is parent class 2\n"
     ]
    }
   ],
   "source": [
    "obj_child.method2()"
   ]
  },
  {
   "cell_type": "code",
   "execution_count": 8,
   "id": "27b885a2-fed6-4cc9-973a-bfbfc2fafb70",
   "metadata": {},
   "outputs": [
    {
     "name": "stdout",
     "output_type": "stream",
     "text": [
      "This is child class\n"
     ]
    }
   ],
   "source": [
    "obj_child.method3()"
   ]
  },
  {
   "cell_type": "markdown",
   "id": "85071dfe-33ee-4a5e-9b79-bb792dc63b65",
   "metadata": {},
   "source": [
    "Q4. What are getter and setter in python? Create a class and create a getter and a setter method in this\n",
    "class.   \n",
    "A)We use getter and setter in python for data encapsulation.To avoid direct access to the data we will be using these methods as private variables cannot be accessed directly by external users   "
   ]
  },
  {
   "cell_type": "code",
   "execution_count": 12,
   "id": "1e999829-c044-481d-a845-9e08d4df23b2",
   "metadata": {},
   "outputs": [],
   "source": [
    "class car:\n",
    "    def __init__(self,number,model):\n",
    "        self.__number=number\n",
    "        self.__model=model\n",
    "    def set_number(self,number):\n",
    "        self.__number=number\n",
    "    def get_number(self):\n",
    "        return self.__number\n",
    "    def set_model(self,model):\n",
    "        self.__model=model\n",
    "    def get_model(self):\n",
    "        return self.__model"
   ]
  },
  {
   "cell_type": "code",
   "execution_count": 13,
   "id": "92a5fb24-18f3-4046-a3e3-777d38b45de1",
   "metadata": {},
   "outputs": [],
   "source": [
    "obj_car=car(10,'Innova')"
   ]
  },
  {
   "cell_type": "code",
   "execution_count": 15,
   "id": "1545bb29-e654-4a3f-b25e-5fe56ef1bdd3",
   "metadata": {},
   "outputs": [],
   "source": [
    "obj_car.set_number(20)"
   ]
  },
  {
   "cell_type": "code",
   "execution_count": 16,
   "id": "f1ddac7f-848c-47df-a6ce-39866b44fa69",
   "metadata": {},
   "outputs": [
    {
     "data": {
      "text/plain": [
       "20"
      ]
     },
     "execution_count": 16,
     "metadata": {},
     "output_type": "execute_result"
    }
   ],
   "source": [
    "obj_car.get_number()"
   ]
  },
  {
   "cell_type": "markdown",
   "id": "05b6d150-b693-45d2-916a-14737e8c0c29",
   "metadata": {},
   "source": [
    "Q5.What is method overriding in python? Write a python code to demonstrate method overriding.  \n",
    "A)Method overriding in python is nothing but it allows subclass to perform specific implementation of method that is already provided in the super class.It can also be defined as when a method in subclass has the same name,same parameters as of method in super class then the method in subclass is said to override the method in parent class.   "
   ]
  },
  {
   "cell_type": "code",
   "execution_count": 17,
   "id": "6662b141-8e98-46f5-861f-45116731f95e",
   "metadata": {},
   "outputs": [],
   "source": [
    "class parent1:\n",
    "    def method1(self):\n",
    "        print('This is parent class')\n",
    "class child1:\n",
    "    def method1(self):\n",
    "        print('This is child class')"
   ]
  },
  {
   "cell_type": "code",
   "execution_count": 18,
   "id": "bf9a3f7a-ed1f-41c3-acc8-b3a35271c92f",
   "metadata": {},
   "outputs": [],
   "source": [
    "obj_child1=child1()"
   ]
  },
  {
   "cell_type": "code",
   "execution_count": 19,
   "id": "228764d1-6032-4d79-a60b-87362c09be49",
   "metadata": {},
   "outputs": [
    {
     "name": "stdout",
     "output_type": "stream",
     "text": [
      "This is child class\n"
     ]
    }
   ],
   "source": [
    "obj_child1.method1()"
   ]
  },
  {
   "cell_type": "code",
   "execution_count": 20,
   "id": "11c7441d-c046-4c96-8560-ba972fc1ee02",
   "metadata": {},
   "outputs": [],
   "source": [
    "obj_parent1=parent1()"
   ]
  },
  {
   "cell_type": "code",
   "execution_count": 21,
   "id": "379c52b3-52f5-485a-9a6c-8a3e0eaec25a",
   "metadata": {},
   "outputs": [
    {
     "name": "stdout",
     "output_type": "stream",
     "text": [
      "This is parent class\n"
     ]
    }
   ],
   "source": [
    "obj_parent1.method1()"
   ]
  },
  {
   "cell_type": "code",
   "execution_count": null,
   "id": "23db736b-e9bd-4bc6-a6e2-212be9c9b76c",
   "metadata": {},
   "outputs": [],
   "source": []
  }
 ],
 "metadata": {
  "kernelspec": {
   "display_name": "Python 3 (ipykernel)",
   "language": "python",
   "name": "python3"
  },
  "language_info": {
   "codemirror_mode": {
    "name": "ipython",
    "version": 3
   },
   "file_extension": ".py",
   "mimetype": "text/x-python",
   "name": "python",
   "nbconvert_exporter": "python",
   "pygments_lexer": "ipython3",
   "version": "3.10.8"
  }
 },
 "nbformat": 4,
 "nbformat_minor": 5
}
