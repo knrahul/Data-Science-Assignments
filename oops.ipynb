{
 "cells": [
  {
   "cell_type": "markdown",
   "id": "3d412c24-e2b5-4579-8019-da411f492324",
   "metadata": {},
   "source": [
    "Q1. Explain Class and Object with respect to Object-Oriented Programming. Give a suitable example.   \n",
    "A)Generally class is a blue print to create objects and object is an instance of class and it contains data and behavior.  "
   ]
  },
  {
   "cell_type": "code",
   "execution_count": 1,
   "id": "18496129-8d34-496c-9f0e-c88c39750b82",
   "metadata": {},
   "outputs": [],
   "source": [
    "class car:\n",
    "    def __init__(self,name,speed):\n",
    "        self.name=name\n",
    "        self.speed=speed\n",
    "    def details(self):\n",
    "        return self.name,self.speed"
   ]
  },
  {
   "cell_type": "code",
   "execution_count": 2,
   "id": "19af235b-8719-489c-8b2e-3869ea02dc85",
   "metadata": {},
   "outputs": [],
   "source": [
    "obj_car=car('Innova',120)"
   ]
  },
  {
   "cell_type": "code",
   "execution_count": 3,
   "id": "e12ab55e-0c35-40f6-b40d-930c13693ee8",
   "metadata": {},
   "outputs": [
    {
     "data": {
      "text/plain": [
       "'Innova'"
      ]
     },
     "execution_count": 3,
     "metadata": {},
     "output_type": "execute_result"
    }
   ],
   "source": [
    "obj_car.name"
   ]
  },
  {
   "cell_type": "code",
   "execution_count": 4,
   "id": "dd811da7-c2e9-4b2b-9de4-87bfef8beb1d",
   "metadata": {},
   "outputs": [
    {
     "data": {
      "text/plain": [
       "('Innova', 120)"
      ]
     },
     "execution_count": 4,
     "metadata": {},
     "output_type": "execute_result"
    }
   ],
   "source": [
    "obj_car.details()"
   ]
  },
  {
   "cell_type": "markdown",
   "id": "8337ca07-058e-49d3-b460-273678952562",
   "metadata": {},
   "source": [
    "Q2. Name the four pillars of OOPs.   \n",
    "A)Four pillars of OOPs are:   \n",
    "Polymorphism   \n",
    "Encapsulation   \n",
    "Inheritance   \n",
    "Abstraction   "
   ]
  },
  {
   "cell_type": "markdown",
   "id": "b305f951-94f9-4329-bfd9-c2a611401358",
   "metadata": {},
   "source": [
    "Q3. Explain why the init() function is used. Give a suitable example.   \n",
    "A)The init method in Python is constructor which is a special method that is automatically called when an object of a class is created. It is used to initialize the attributes of an object.   "
   ]
  },
  {
   "cell_type": "code",
   "execution_count": 11,
   "id": "f1b72fb9-a24a-421c-9c6f-bb7753e9b59b",
   "metadata": {},
   "outputs": [],
   "source": [
    "class vehicle:\n",
    "    def __init__(self,number,name):\n",
    "        self.number=number\n",
    "        self.name=name\n",
    "    def details(self):\n",
    "        return self.number,self.name"
   ]
  },
  {
   "cell_type": "code",
   "execution_count": 12,
   "id": "8250e3f7-cd45-44fe-8ca7-67c5f3d781f8",
   "metadata": {},
   "outputs": [],
   "source": [
    "obj_vehicle=vehicle(1,'car')"
   ]
  },
  {
   "cell_type": "code",
   "execution_count": 13,
   "id": "2071dee6-4173-4ac7-886b-da02b53c9b17",
   "metadata": {},
   "outputs": [
    {
     "data": {
      "text/plain": [
       "(1, 'car')"
      ]
     },
     "execution_count": 13,
     "metadata": {},
     "output_type": "execute_result"
    }
   ],
   "source": [
    "obj_vehicle.details()"
   ]
  },
  {
   "cell_type": "markdown",
   "id": "025e5077-ecd1-46fd-9d86-742d2fbb2a80",
   "metadata": {},
   "source": [
    "Q4. Why self is used in OOPs?   \n",
    "A)The keyword \"self\" is used as a reference to the instance of the class within a method. It is used to access the attributes and methods of the class within the method."
   ]
  },
  {
   "cell_type": "markdown",
   "id": "3de51a97-5b94-426d-94d0-7040004b9bf3",
   "metadata": {},
   "source": [
    "Q5. What is inheritance? Give an example for each type of inheritance.  \n",
    "A) Inheritance is a process of obtaining properties and characteristics(variables and methods) of another class. In this hierarchical order, the class which inherits another class is called subclass or child class, and the other class is the parent class.\n",
    "Types of inheritance in python are:   \n",
    "Single Inheritance   \n",
    "Multiple Inheritance   \n",
    "Multi-level Inheritance   \n",
    "Hybrid Inheritance   \n",
    "Hierarchical Inheritance\n"
   ]
  },
  {
   "cell_type": "code",
   "execution_count": 14,
   "id": "9ad5bebc-b127-4557-aa2e-aac0ff16bd24",
   "metadata": {},
   "outputs": [],
   "source": [
    "#example for single inheritance"
   ]
  },
  {
   "cell_type": "code",
   "execution_count": 15,
   "id": "215ceee1-3052-47bd-9363-52dacb4e653e",
   "metadata": {},
   "outputs": [],
   "source": [
    "class vehicle:\n",
    "    def method1(self):\n",
    "        print('This is parent method')\n",
    "class car(vehicle):\n",
    "    def method2(self):\n",
    "        print('This is child class')"
   ]
  },
  {
   "cell_type": "code",
   "execution_count": 16,
   "id": "566fd26b-10fe-4dca-b9b8-4518ccd15c3b",
   "metadata": {},
   "outputs": [],
   "source": [
    "obj_car=car()"
   ]
  },
  {
   "cell_type": "code",
   "execution_count": 17,
   "id": "827f5248-5084-4d1b-b877-15f0314f7fa9",
   "metadata": {},
   "outputs": [
    {
     "name": "stdout",
     "output_type": "stream",
     "text": [
      "This is parent method\n"
     ]
    }
   ],
   "source": [
    "obj_car.method1()"
   ]
  },
  {
   "cell_type": "code",
   "execution_count": 18,
   "id": "c597e23e-2375-4738-8689-89e24afce050",
   "metadata": {},
   "outputs": [
    {
     "name": "stdout",
     "output_type": "stream",
     "text": [
      "This is child class\n"
     ]
    }
   ],
   "source": [
    "obj_car.method2()"
   ]
  },
  {
   "cell_type": "code",
   "execution_count": 19,
   "id": "1c749dd9-8842-4499-a5bc-cbbbf7ef4d87",
   "metadata": {},
   "outputs": [],
   "source": [
    "#example for multiple inheritance"
   ]
  },
  {
   "cell_type": "code",
   "execution_count": 22,
   "id": "312c619e-ead9-4088-97e6-786f7cab1103",
   "metadata": {},
   "outputs": [],
   "source": [
    "class vehicle:\n",
    "    def method1(self):\n",
    "        print('This is parent method which is of class parent 1')\n",
    "class wheels:\n",
    "    def method2(self):\n",
    "        print('This is wheels class which is parent2')\n",
    "class car(vehicle,wheels):\n",
    "    def method3(self):\n",
    "        print('This is child class')"
   ]
  },
  {
   "cell_type": "code",
   "execution_count": 25,
   "id": "d98f4a40-4624-4d01-8d0f-dace63e6f88e",
   "metadata": {},
   "outputs": [],
   "source": [
    "obj_car2=car()"
   ]
  },
  {
   "cell_type": "code",
   "execution_count": 23,
   "id": "d4106831-f91f-4001-9d9a-75c94b3f845a",
   "metadata": {},
   "outputs": [
    {
     "name": "stdout",
     "output_type": "stream",
     "text": [
      "This is parent method which is of class parent 1\n"
     ]
    }
   ],
   "source": [
    "obj_car2.method1()"
   ]
  },
  {
   "cell_type": "code",
   "execution_count": 26,
   "id": "30023fdb-2e1d-491a-9aba-8d463fc1fbe6",
   "metadata": {},
   "outputs": [
    {
     "name": "stdout",
     "output_type": "stream",
     "text": [
      "This is wheels class which is parent2\n"
     ]
    }
   ],
   "source": [
    "obj_car2.method2()"
   ]
  },
  {
   "cell_type": "code",
   "execution_count": 27,
   "id": "015c0a02-971c-40c8-9e05-25e93f24eadc",
   "metadata": {},
   "outputs": [],
   "source": [
    "#example for multi-level inheritance"
   ]
  },
  {
   "cell_type": "code",
   "execution_count": 28,
   "id": "19aa7a77-3043-4e5d-be43-e408d03fe940",
   "metadata": {},
   "outputs": [],
   "source": [
    "class vehicle:\n",
    "    def method1(self):\n",
    "        print('This is parent method which is of class parent 1')\n",
    "class wheels(vehicle):\n",
    "    def method2(self):\n",
    "        print('This is wheels class which is parent2')\n",
    "class car(wheels):\n",
    "    def method3(self):\n",
    "        print('This is child class')"
   ]
  },
  {
   "cell_type": "code",
   "execution_count": 29,
   "id": "2e21c06f-ffad-43a3-8026-e9f3ef69927a",
   "metadata": {},
   "outputs": [],
   "source": [
    "obj_car3=car()"
   ]
  },
  {
   "cell_type": "code",
   "execution_count": 30,
   "id": "93131a06-5ed2-4a03-86ae-a676625f904b",
   "metadata": {},
   "outputs": [
    {
     "name": "stdout",
     "output_type": "stream",
     "text": [
      "This is parent method which is of class parent 1\n"
     ]
    }
   ],
   "source": [
    "obj_car3.method1()"
   ]
  },
  {
   "cell_type": "code",
   "execution_count": 31,
   "id": "f33a088f-012b-4420-b784-dec8012c6a89",
   "metadata": {},
   "outputs": [
    {
     "name": "stdout",
     "output_type": "stream",
     "text": [
      "This is wheels class which is parent2\n"
     ]
    }
   ],
   "source": [
    "obj_car3.method2()"
   ]
  },
  {
   "cell_type": "code",
   "execution_count": 32,
   "id": "ee9f60d1-e28b-4ad7-b086-e745d37afc64",
   "metadata": {},
   "outputs": [],
   "source": [
    "#example for hierarchical inheritance"
   ]
  },
  {
   "cell_type": "code",
   "execution_count": 33,
   "id": "ac953ad9-4dff-46a8-8c89-281696ad83a3",
   "metadata": {},
   "outputs": [],
   "source": [
    "class vehicle:\n",
    "    def method1(self):\n",
    "        print('This is parent method which is of class parent 1')\n",
    "class wheels(vehicle):\n",
    "    def method2(self):\n",
    "        print('This is wheels class which is parent2')\n",
    "class car(vehicle):\n",
    "    def method3(self):\n",
    "        print('This is child class')"
   ]
  },
  {
   "cell_type": "code",
   "execution_count": 34,
   "id": "c4db5db2-fdac-4e24-9900-8db4fada3a21",
   "metadata": {},
   "outputs": [],
   "source": [
    "obj_car4=car()"
   ]
  },
  {
   "cell_type": "code",
   "execution_count": 35,
   "id": "1b7a0a36-36e5-4e73-8bdb-cd4c20f34766",
   "metadata": {},
   "outputs": [
    {
     "name": "stdout",
     "output_type": "stream",
     "text": [
      "This is parent method which is of class parent 1\n"
     ]
    }
   ],
   "source": [
    "obj_car4.method1()"
   ]
  },
  {
   "cell_type": "code",
   "execution_count": 36,
   "id": "00abec1b-143e-4a0c-811f-d6f9c87dfdea",
   "metadata": {},
   "outputs": [],
   "source": [
    "obj_wheels1=wheels()"
   ]
  },
  {
   "cell_type": "code",
   "execution_count": 37,
   "id": "a67a0b21-c873-4578-8410-88bfa3d59d02",
   "metadata": {},
   "outputs": [
    {
     "name": "stdout",
     "output_type": "stream",
     "text": [
      "This is parent method which is of class parent 1\n"
     ]
    }
   ],
   "source": [
    "obj_wheels1.method1()"
   ]
  },
  {
   "cell_type": "code",
   "execution_count": 38,
   "id": "c6c8d7c2-2480-4167-b83d-0c5688a201f0",
   "metadata": {},
   "outputs": [],
   "source": [
    "#Example for hybrid inheritance"
   ]
  },
  {
   "cell_type": "code",
   "execution_count": 39,
   "id": "2af6e378-4d12-4784-9b5f-d895c2788114",
   "metadata": {},
   "outputs": [],
   "source": [
    "class vehicle:\n",
    "    def method1(self):\n",
    "        print('This is parent method which is of class parent 1')\n",
    "class wheels(vehicle):\n",
    "    def method2(self):\n",
    "        print('This is wheels class which is parent2')\n",
    "class car(vehicle):\n",
    "    def method3(self):\n",
    "        print('This is child class')\n",
    "class seats(wheels,car):\n",
    "    def method4(self):\n",
    "        print('This is seats class')"
   ]
  },
  {
   "cell_type": "code",
   "execution_count": 40,
   "id": "27d74760-5a71-43c0-b561-3cbb3eb71d70",
   "metadata": {},
   "outputs": [],
   "source": [
    "obj_seats=seats()"
   ]
  },
  {
   "cell_type": "code",
   "execution_count": null,
   "id": "70a24c37-f96a-4be6-b07a-2cd1fa3c3206",
   "metadata": {},
   "outputs": [],
   "source": [
    "obj_se"
   ]
  }
 ],
 "metadata": {
  "kernelspec": {
   "display_name": "Python 3 (ipykernel)",
   "language": "python",
   "name": "python3"
  },
  "language_info": {
   "codemirror_mode": {
    "name": "ipython",
    "version": 3
   },
   "file_extension": ".py",
   "mimetype": "text/x-python",
   "name": "python",
   "nbconvert_exporter": "python",
   "pygments_lexer": "ipython3",
   "version": "3.10.8"
  }
 },
 "nbformat": 4,
 "nbformat_minor": 5
}
