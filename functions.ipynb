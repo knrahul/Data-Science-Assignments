{
 "cells": [
  {
   "cell_type": "markdown",
   "id": "6604c079-3535-40a9-9062-96a94ed9b163",
   "metadata": {},
   "source": [
    "**Q1. Which keyword is used to create a function? Create a function to return a list of odd numbers in the\n",
    "range of 1 to 25.**  \n",
    "A)def keyword is used to create a function"
   ]
  },
  {
   "cell_type": "code",
   "execution_count": 3,
   "id": "423dbdcc-7b41-4d6c-8c0f-1affbb4ac39f",
   "metadata": {},
   "outputs": [],
   "source": [
    "def odd_numbers():\n",
    "    odd_n=[]\n",
    "    for i in range(1,26):\n",
    "        if i%2!=0:\n",
    "            odd_n.append(i)\n",
    "    return odd_n\n",
    "        "
   ]
  },
  {
   "cell_type": "markdown",
   "id": "f87e0d74-ff9b-459b-bd81-5bf5e096c845",
   "metadata": {},
   "source": [
    "odd_numbers()"
   ]
  },
  {
   "cell_type": "markdown",
   "id": "1828cc04-88cc-4d3d-9cda-bd28cc27b0bd",
   "metadata": {},
   "source": [
    "Q2. Why *args and **kwargs is used in some functions? Create a function each for *args and  **kwargs to\n",
    "demonstrate their use.  \n",
    "A)When we are no sure about passing number of arguments to the function *args can be passed to the function args   allow us to pass the variable number of non keyword arguments to function.  \n",
    " **kwargs - it allows us to pass the variable length of keyword arguments to the function.The arguments are passed as a dictionary and these arguments make a dictionary inside function with name same as the parameter excluding double asterisk ."
   ]
  },
  {
   "cell_type": "code",
   "execution_count": 5,
   "id": "d1588a61-c351-4d98-adad-d0ffe5014e9a",
   "metadata": {},
   "outputs": [],
   "source": [
    "def sum1(*args):\n",
    "    sum_=0\n",
    "    for i in args:\n",
    "        sum_=sum_+i\n",
    "    return sum_"
   ]
  },
  {
   "cell_type": "code",
   "execution_count": 6,
   "id": "68a86118-a431-43d3-9db6-4ec2907c6204",
   "metadata": {},
   "outputs": [
    {
     "data": {
      "text/plain": [
       "15"
      ]
     },
     "execution_count": 6,
     "metadata": {},
     "output_type": "execute_result"
    }
   ],
   "source": [
    "sum1(1,2,3,4,5)"
   ]
  },
  {
   "cell_type": "code",
   "execution_count": 9,
   "id": "abe73bb1-d104-478c-ace4-049e7146695c",
   "metadata": {},
   "outputs": [],
   "source": [
    "def details(**kwargs):\n",
    "    for i in kwargs:\n",
    "        print(i,kwargs[i])"
   ]
  },
  {
   "cell_type": "code",
   "execution_count": 10,
   "id": "d303434e-7dda-4c32-b651-fb9f074dfb2e",
   "metadata": {},
   "outputs": [
    {
     "name": "stdout",
     "output_type": "stream",
     "text": [
      "name Rahul\n",
      "age 18\n"
     ]
    }
   ],
   "source": [
    "details(name=\"Rahul\",age=18)"
   ]
  },
  {
   "cell_type": "markdown",
   "id": "b39e9ee9-a340-48fc-a964-414f4a4992d0",
   "metadata": {},
   "source": [
    "**Q3. What is an iterator in python? Name the method used to initialise the iterator object and the method\n",
    "used for iteration. Use these methods to print the first five elements of the given list [2, 4, 6, 8, 10, 12, 14, 16,\n",
    "18, 20].**  \n",
    "A)Iterator in python is an object that is used to iterate over iterable objects.we can iterate over lists,tuples etc.It is initialized by using iter() method.It uses next() method for iteration."
   ]
  },
  {
   "cell_type": "code",
   "execution_count": 13,
   "id": "09fd00cc-9736-4d4d-943e-425c14ccc8bb",
   "metadata": {},
   "outputs": [
    {
     "name": "stdout",
     "output_type": "stream",
     "text": [
      "1\n",
      "2\n",
      "3\n",
      "4\n",
      "5\n"
     ]
    }
   ],
   "source": [
    "list1=[1,2,3,4,5,6,7,8]\n",
    "list2=iter(list1)\n",
    "for i in range(5):\n",
    "    print(next(list2))"
   ]
  },
  {
   "cell_type": "markdown",
   "id": "ee9e7a13-f8a2-4633-b018-4ec2526511b9",
   "metadata": {},
   "source": [
    "**Q4. What is a generator function in python? Why yield keyword is used? Give an example of a generator\n",
    "function.**  \n",
    "A)Generator functions in python are the functions that returns an iterator that produces a sequence of values when iterated over.Generator functions are useful when we want to produce a large sequence of values, but we don't want to store all of them in memory at once."
   ]
  },
  {
   "cell_type": "code",
   "execution_count": 14,
   "id": "eb5429ea-1cca-4b7d-a9c1-3e5c66cb1cd4",
   "metadata": {},
   "outputs": [],
   "source": [
    "def fibonacci_numbers(n):\n",
    "    x, y = 0, 1\n",
    "    for i in range(n):\n",
    "        x, y = y, x+y\n",
    "        yield x "
   ]
  },
  {
   "cell_type": "code",
   "execution_count": 15,
   "id": "02c49bff-35c8-42bf-9fe9-19cd8caca846",
   "metadata": {},
   "outputs": [
    {
     "name": "stdout",
     "output_type": "stream",
     "text": [
      "1\n",
      "1\n",
      "2\n",
      "3\n",
      "5\n",
      "8\n",
      "13\n",
      "21\n",
      "34\n",
      "55\n"
     ]
    }
   ],
   "source": [
    "for i in fibonacci_numbers(10):\n",
    "    print(i)"
   ]
  },
  {
   "cell_type": "markdown",
   "id": "0567132b-a7b1-41bd-b0df-5c7e3334fb93",
   "metadata": {},
   "source": [
    "**Q5. Create a generator function for prime numbers less than 1000. Use the next() method to print the\n",
    "first 20 prime numbers.**"
   ]
  },
  {
   "cell_type": "code",
   "execution_count": 16,
   "id": "995da809-c228-4db9-8e01-a8f6ee30b026",
   "metadata": {},
   "outputs": [],
   "source": [
    "def primes():\n",
    "    yield 2\n",
    "    primes = [2]\n",
    "    n = 3\n",
    "    while n < 1000:\n",
    "        is_prime = True\n",
    "        for prime in primes:\n",
    "            if prime > n ** 0.5:\n",
    "                break\n",
    "            if n % prime == 0:\n",
    "                is_prime = False\n",
    "                break\n",
    "        if is_prime:\n",
    "            primes.append(n)\n",
    "            yield n\n",
    "        n += 2"
   ]
  },
  {
   "cell_type": "code",
   "execution_count": 17,
   "id": "3996eb35-a1ae-4efe-a3a0-650107f3e8bc",
   "metadata": {},
   "outputs": [
    {
     "name": "stdout",
     "output_type": "stream",
     "text": [
      "2\n",
      "3\n",
      "5\n",
      "7\n",
      "11\n",
      "13\n",
      "17\n",
      "19\n",
      "23\n",
      "29\n",
      "31\n",
      "37\n",
      "41\n",
      "43\n",
      "47\n",
      "53\n",
      "59\n",
      "61\n",
      "67\n",
      "71\n"
     ]
    }
   ],
   "source": [
    "prime_numbers = primes()\n",
    "for i in range(20):\n",
    "    print(next(prime_numbers))"
   ]
  },
  {
   "cell_type": "code",
   "execution_count": null,
   "id": "d0785a8d-b8b9-4e79-a118-884d7944a3a6",
   "metadata": {},
   "outputs": [],
   "source": []
  }
 ],
 "metadata": {
  "kernelspec": {
   "display_name": "Python 3 (ipykernel)",
   "language": "python",
   "name": "python3"
  },
  "language_info": {
   "codemirror_mode": {
    "name": "ipython",
    "version": 3
   },
   "file_extension": ".py",
   "mimetype": "text/x-python",
   "name": "python",
   "nbconvert_exporter": "python",
   "pygments_lexer": "ipython3",
   "version": "3.10.8"
  }
 },
 "nbformat": 4,
 "nbformat_minor": 5
}
