{
 "cells": [
  {
   "cell_type": "markdown",
   "id": "47112aab-908c-48b7-b784-8d1b4d2c7247",
   "metadata": {},
   "source": [
    "\n",
    "**Q1. What are the characteristics of the tuples? Is tuple immutable?**  \n",
    "A) ->Tuples are immutable\n",
    "     ,Tuples does not allow us to change elements in \n",
    "         particular indexes\n",
    "     ,Tuples can contain duplicate elements\n",
    "     ,we will be using tuples when I need no one to \n",
    "         change my data\n",
    "    ,In tuples elements are indexed etc.\n",
    "\n"
   ]
  },
  {
   "cell_type": "markdown",
   "id": "3eee2364-b13a-4335-a4ba-19593a3d5020",
   "metadata": {},
   "source": [
    "**Q2. What are the two tuple methods in python? Give an example of each method. Give a reason why\n",
    "tuples have only two in-built methods as compared to Lists.**   \n",
    "A) Two in-built methods for Tuples in python are index()\n",
    "     and count()  \n",
    "     tuple1=(1,2,3,4,5,5)  \n",
    "     tuple1.count(5)  \n",
    "     output:2  \n",
    "     count() method gives number of occurrences of an    \n",
    "     element  \n",
    "     tuple1.index(1)  \n",
    "     output:0    \n",
    "     index() method gives the first occurrence of an   \n",
    "     element  \n",
    "     Here we have only two built in functions because   \n",
    "     These are immutable and but list is immutable so   \n",
    "     We  can make many changes using it.  \n"
   ]
  },
  {
   "cell_type": "code",
   "execution_count": 1,
   "id": "82245cce-a782-4bbb-ac7c-05b1fa124ce8",
   "metadata": {},
   "outputs": [
    {
     "data": {
      "text/plain": [
       "2"
      ]
     },
     "execution_count": 1,
     "metadata": {},
     "output_type": "execute_result"
    }
   ],
   "source": [
    "tuple1=(1,2,3,4,5,5)  \n",
    "tuple1.count(5)  "
   ]
  },
  {
   "cell_type": "code",
   "execution_count": 3,
   "id": "baf32c57-e485-4ade-9139-a73f1079621a",
   "metadata": {},
   "outputs": [
    {
     "data": {
      "text/plain": [
       "0"
      ]
     },
     "execution_count": 3,
     "metadata": {},
     "output_type": "execute_result"
    }
   ],
   "source": [
    "tuple1.index(1)"
   ]
  },
  {
   "cell_type": "markdown",
   "id": "5463be62-5b12-4539-ac7a-7054a0cf6739",
   "metadata": {},
   "source": [
    "**Q3. Which collection data types in python do not allow duplicate items? Write a code using a set to remove\n",
    "duplicates from the given list.  \n",
    "List = [1, 1, 1, 2, 1, 3, 1, 4, 2, 1, 2, 2, 2, 3, 2, 4, 3, 1, 3, 2, 3, 3, 3, 4, 4, 1, 4, 2, 4, 3, 4, 4]**  \n",
    "A)Set collection do not allow duplicate elements  \n",
    "   \n",
    "List = [1, 1, 1, 2, 1, 3, 1, 4, 2, 1, 2, 2, 2, 3, 2, 4, 3, 1, 3, 2, 3, 3, 3, 4, 4, 1, 4, 2, 4, 3, 4, 4]  \n",
    "set(List)  \n",
    "Output:{1,2,3,4}  \n"
   ]
  },
  {
   "cell_type": "code",
   "execution_count": 4,
   "id": "b5554447-4326-45d0-a1de-fe8cfa6a9e93",
   "metadata": {},
   "outputs": [
    {
     "data": {
      "text/plain": [
       "{1, 2, 3, 4}"
      ]
     },
     "execution_count": 4,
     "metadata": {},
     "output_type": "execute_result"
    }
   ],
   "source": [
    "List = [1, 1, 1, 2, 1, 3, 1, 4, 2, 1, 2, 2, 2, 3, 2, 4, 3, 1, 3, 2, 3, 3, 3, 4, 4, 1, 4, 2, 4, 3, 4, 4]\n",
    "set(List)"
   ]
  },
  {
   "cell_type": "markdown",
   "id": "7bf2f79e-0dea-424e-a11d-7647bd916b8b",
   "metadata": {},
   "source": [
    "**Q4. Explain the difference between the union() and update() methods for a set. Give an example of\n",
    "each method.**  \n",
    "A)set.update() method will add the missing elements to the called set , set.union() method returns all the elements in the original set and elements in the specified set.  \n",
    "set1={1,2,3,4,5}  \n",
    "set2={1,2,3,10,11}  \n",
    "set1.union(set2)  \n",
    "output:{1,2,3,4,5,10,11}  \n",
    "set1.update(set2)  \n",
    "set1  \n",
    "output:{1,2,3,4,5,10,11}  \n"
   ]
  },
  {
   "cell_type": "code",
   "execution_count": 11,
   "id": "af16f530-0190-45a2-a3b1-86265880eae7",
   "metadata": {},
   "outputs": [
    {
     "data": {
      "text/plain": [
       "{1, 2, 3, 4, 5, 6, 10, 11}"
      ]
     },
     "execution_count": 11,
     "metadata": {},
     "output_type": "execute_result"
    }
   ],
   "source": [
    "set1={1,2,3,4,5,6}\n",
    "set2={1,2,3,10,11,6}\n",
    "set1.union(set2)"
   ]
  },
  {
   "cell_type": "code",
   "execution_count": 13,
   "id": "5d23fba0-40c2-4cd0-b551-cdf001c1d536",
   "metadata": {},
   "outputs": [
    {
     "data": {
      "text/plain": [
       "{1, 2, 3, 6, 10, 11}"
      ]
     },
     "execution_count": 13,
     "metadata": {},
     "output_type": "execute_result"
    }
   ],
   "source": [
    "set1.update(set2)\n",
    "set2"
   ]
  },
  {
   "cell_type": "markdown",
   "id": "96497b8a-de2b-4196-832f-00d9c71eb043",
   "metadata": {},
   "source": [
    "**Q5. What is a dictionary? Give an example. Also, state whether a dictionary is ordered or unordered.**  \n",
    "A) Dictionary is a collection of data where we store data in key and value pairs.Dictionary is ordered  \n",
    "d1={\"name\":\"Rahul\",\"age\":18}  \n",
    "d1  \n",
    "output:{'name': 'Rahul', 'age': 18}  \n"
   ]
  },
  {
   "cell_type": "code",
   "execution_count": 14,
   "id": "3fe68b1a-3e4c-4b37-8da7-3d766adc0baa",
   "metadata": {},
   "outputs": [
    {
     "data": {
      "text/plain": [
       "{'name': 'Rahul', 'age': 18}"
      ]
     },
     "execution_count": 14,
     "metadata": {},
     "output_type": "execute_result"
    }
   ],
   "source": [
    "d1={\"name\":\"Rahul\",\"age\":18}\n",
    "d1"
   ]
  },
  {
   "cell_type": "markdown",
   "id": "e751cb7b-6965-4eac-af4a-353444ee6423",
   "metadata": {},
   "source": [
    "**Q6. Can we create a nested dictionary? If so, please give an example by creating a simple one-level\n",
    "nested dictionary.**  \n",
    "Yes it is possible to create a nested dictionary  \n",
    "     d2={\"name\":\"Robert\",\"Phone_number\":{\"landline\":1234,\"Personal\":3456}}  \n",
    "d2  \n",
    "output:{'name': 'Robert', 'Phone_number': {'landline': 1234, 'Personal': 3456}}\n"
   ]
  },
  {
   "cell_type": "code",
   "execution_count": 15,
   "id": "0d746e43-0817-49a7-8ef3-5ca72a27df4a",
   "metadata": {},
   "outputs": [
    {
     "data": {
      "text/plain": [
       "{'name': 'Robert', 'Phone_number': {'landline': 1234, 'Personal': 3456}}"
      ]
     },
     "execution_count": 15,
     "metadata": {},
     "output_type": "execute_result"
    }
   ],
   "source": [
    "d2={\"name\":\"Robert\",\"Phone_number\":{\"landline\":1234,\"Personal\":3456}}\n",
    "d2"
   ]
  },
  {
   "cell_type": "markdown",
   "id": "bde8a2a3-752c-4d9e-beee-31b5ed788766",
   "metadata": {},
   "source": [
    "**Q7. Using setdefault() method, create key named topics in the given dictionary and also add the value of  \n",
    "the key as this list ['Python', 'Machine Learning’, 'Deep Learning']  \n",
    "dict1 = {'language' : 'Python', 'course': 'Data Science Masters'}**\n"
   ]
  },
  {
   "cell_type": "code",
   "execution_count": 22,
   "id": "af0982f3-246d-4173-9f68-511c4f451c8a",
   "metadata": {},
   "outputs": [
    {
     "data": {
      "text/plain": [
       "{'language': 'Python',\n",
       " 'course': 'Data Science Masters',\n",
       " 'topics': ['Python', 'Machine Learning', 'Deep Learning']}"
      ]
     },
     "execution_count": 22,
     "metadata": {},
     "output_type": "execute_result"
    }
   ],
   "source": [
    "dict1 = {'language' : 'Python', 'course': 'Data Science Masters'}\n",
    "List2= ['Python', 'Machine Learning', 'Deep Learning']\n",
    "dict1.setdefault(\"topics\",List2)\n",
    "dict1"
   ]
  },
  {
   "cell_type": "markdown",
   "id": "5ae49d95-b57d-4324-ad79-3fbea0a0355e",
   "metadata": {},
   "source": [
    "**Q8. What are the three view objects in dictionaries? Use the three in-built methods in python to display\n",
    "these three view objects for the given dictionary.  \n",
    "dict1 = {'Sport': 'Cricket' , 'Teams': ['India', 'Australia', 'England', 'South Africa', 'Sri Lanka', 'New Zealand']}**  \n",
    "A) keys,values,items  \n",
    "dict1.keys()  \n",
    "output:dict_keys(['Sport', 'Teams'])  \n",
    "dict1.values()  \n",
    "output:dict_values(['Cricket', ['India', 'Australia', 'England', 'South Africa', 'Sri Lanka', 'New Zealand']])  \n",
    "dict1.items()  \n",
    "output:dict_items([('Sport', 'Cricket'), ('Teams', ['India', 'Australia', 'England', 'South Africa', 'Sri Lanka', 'New Zealand'])])  \n",
    "     \n"
   ]
  },
  {
   "cell_type": "code",
   "execution_count": 18,
   "id": "9262428d-a192-4be3-a058-4476ccfe75fc",
   "metadata": {},
   "outputs": [
    {
     "data": {
      "text/plain": [
       "dict_keys(['Sport', 'Teams'])"
      ]
     },
     "execution_count": 18,
     "metadata": {},
     "output_type": "execute_result"
    }
   ],
   "source": [
    "dict1 = {'Sport': 'Cricket' , 'Teams': ['India', 'Australia', 'England', 'South Africa', 'Sri Lanka', 'New Zealand']}\n",
    "dict1.keys()"
   ]
  },
  {
   "cell_type": "code",
   "execution_count": 19,
   "id": "8f7e5ea6-67fb-415b-a3f9-02a35f483550",
   "metadata": {},
   "outputs": [
    {
     "data": {
      "text/plain": [
       "dict_values(['Cricket', ['India', 'Australia', 'England', 'South Africa', 'Sri Lanka', 'New Zealand']])"
      ]
     },
     "execution_count": 19,
     "metadata": {},
     "output_type": "execute_result"
    }
   ],
   "source": [
    "dict1.values()"
   ]
  },
  {
   "cell_type": "code",
   "execution_count": 20,
   "id": "ae2e8529-ff09-41de-9523-e90724efcb7b",
   "metadata": {},
   "outputs": [
    {
     "data": {
      "text/plain": [
       "dict_items([('Sport', 'Cricket'), ('Teams', ['India', 'Australia', 'England', 'South Africa', 'Sri Lanka', 'New Zealand'])])"
      ]
     },
     "execution_count": 20,
     "metadata": {},
     "output_type": "execute_result"
    }
   ],
   "source": [
    "dict1.items()"
   ]
  },
  {
   "cell_type": "code",
   "execution_count": null,
   "id": "a56f7272-c6df-4195-8bcd-7d9bb0c03dee",
   "metadata": {},
   "outputs": [],
   "source": []
  }
 ],
 "metadata": {
  "kernelspec": {
   "display_name": "Python 3 (ipykernel)",
   "language": "python",
   "name": "python3"
  },
  "language_info": {
   "codemirror_mode": {
    "name": "ipython",
    "version": 3
   },
   "file_extension": ".py",
   "mimetype": "text/x-python",
   "name": "python",
   "nbconvert_exporter": "python",
   "pygments_lexer": "ipython3",
   "version": "3.10.8"
  }
 },
 "nbformat": 4,
 "nbformat_minor": 5
}
